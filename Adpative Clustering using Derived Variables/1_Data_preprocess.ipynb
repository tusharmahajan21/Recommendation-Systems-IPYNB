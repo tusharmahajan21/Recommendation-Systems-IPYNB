{
 "cells": [
  {
   "cell_type": "code",
   "execution_count": 1,
   "metadata": {},
   "outputs": [],
   "source": [
    "#importing required libraries \n",
    "%matplotlib inline\n",
    "import pandas as pd\n",
    "import numpy as np\n",
    "from scipy.stats import truncnorm\n",
    "from ast import literal_eval\n",
    "\n",
    "from sklearn.utils import shuffle\n",
    "pd.options.display.max_columns = None"
   ]
  },
  {
   "cell_type": "code",
   "execution_count": 156,
   "metadata": {},
   "outputs": [
    {
     "data": {
      "text/html": [
       "<div>\n",
       "<style>\n",
       "    .dataframe thead tr:only-child th {\n",
       "        text-align: right;\n",
       "    }\n",
       "\n",
       "    .dataframe thead th {\n",
       "        text-align: left;\n",
       "    }\n",
       "\n",
       "    .dataframe tbody tr th {\n",
       "        vertical-align: top;\n",
       "    }\n",
       "</style>\n",
       "<table border=\"1\" class=\"dataframe\">\n",
       "  <thead>\n",
       "    <tr style=\"text-align: right;\">\n",
       "      <th></th>\n",
       "      <th>userId</th>\n",
       "      <th>movieId</th>\n",
       "      <th>rating</th>\n",
       "      <th>timestamp</th>\n",
       "    </tr>\n",
       "  </thead>\n",
       "  <tbody>\n",
       "    <tr>\n",
       "      <th>0</th>\n",
       "      <td>1</td>\n",
       "      <td>31</td>\n",
       "      <td>2.5</td>\n",
       "      <td>1260759144</td>\n",
       "    </tr>\n",
       "    <tr>\n",
       "      <th>1</th>\n",
       "      <td>1</td>\n",
       "      <td>1029</td>\n",
       "      <td>3.0</td>\n",
       "      <td>1260759179</td>\n",
       "    </tr>\n",
       "    <tr>\n",
       "      <th>2</th>\n",
       "      <td>1</td>\n",
       "      <td>1061</td>\n",
       "      <td>3.0</td>\n",
       "      <td>1260759182</td>\n",
       "    </tr>\n",
       "    <tr>\n",
       "      <th>3</th>\n",
       "      <td>1</td>\n",
       "      <td>1129</td>\n",
       "      <td>2.0</td>\n",
       "      <td>1260759185</td>\n",
       "    </tr>\n",
       "    <tr>\n",
       "      <th>4</th>\n",
       "      <td>1</td>\n",
       "      <td>1172</td>\n",
       "      <td>4.0</td>\n",
       "      <td>1260759205</td>\n",
       "    </tr>\n",
       "  </tbody>\n",
       "</table>\n",
       "</div>"
      ],
      "text/plain": [
       "   userId  movieId  rating   timestamp\n",
       "0       1       31     2.5  1260759144\n",
       "1       1     1029     3.0  1260759179\n",
       "2       1     1061     3.0  1260759182\n",
       "3       1     1129     2.0  1260759185\n",
       "4       1     1172     4.0  1260759205"
      ]
     },
     "execution_count": 156,
     "metadata": {},
     "output_type": "execute_result"
    }
   ],
   "source": [
    "ratings = pd.read_csv('data/ratings_small.csv')\n",
    "ratings.head()"
   ]
  },
  {
   "cell_type": "code",
   "execution_count": 157,
   "metadata": {},
   "outputs": [],
   "source": [
    "customers = pd.DataFrame({'userId':ratings['userId'].unique()})\n",
    "customers = customers.sort_values('userId')"
   ]
  },
  {
   "cell_type": "code",
   "execution_count": 158,
   "metadata": {},
   "outputs": [],
   "source": [
    " c = ratings['userId'].value_counts()"
   ]
  },
  {
   "cell_type": "code",
   "execution_count": 159,
   "metadata": {},
   "outputs": [],
   "source": [
    "def cal_avg_rating_user(row,col):\n",
    "    uid = int(row[col])\n",
    "    u_data = ratings[ratings[col] == uid]\n",
    "    avg_rating = u_data['rating'].sum()/len(u_data)\n",
    "    return avg_rating\n",
    "    \n",
    "def avg_rating_user (df,col,label):\n",
    "    df[label] = df.apply(lambda row: cal_avg_rating_user(row,col), axis = 1)\n",
    "    return df"
   ]
  },
  {
   "cell_type": "code",
   "execution_count": 160,
   "metadata": {},
   "outputs": [],
   "source": [
    "customers = avg_rating_user (customers,'userId','avg_rating')"
   ]
  },
  {
   "cell_type": "code",
   "execution_count": 161,
   "metadata": {},
   "outputs": [],
   "source": [
    "def cal_avg_rating(row,col):\n",
    "    id_val = int(row[col])\n",
    "    r_data = ratings[ratings[col] == id_val]\n",
    "    avg_rating = r_data['rating'].sum()\n",
    "    return avg_rating\n",
    "    \n",
    "def avg_rating (df,col,label):\n",
    "    df[label] = df.apply(lambda row: cal_avg_rating(row,col), axis = 1)\n",
    "    return df"
   ]
  },
  {
   "cell_type": "code",
   "execution_count": 162,
   "metadata": {},
   "outputs": [],
   "source": [
    "items = pd.DataFrame({'movieId':ratings['movieId'].unique()})\n",
    "items = items.sort_values('movieId')"
   ]
  },
  {
   "cell_type": "code",
   "execution_count": 163,
   "metadata": {},
   "outputs": [],
   "source": [
    "items = avg_rating(items,'movieId','avg_rating_item')"
   ]
  },
  {
   "cell_type": "code",
   "execution_count": 164,
   "metadata": {},
   "outputs": [],
   "source": [
    "def cal_quantity(row,col):\n",
    "    id_val = int(row[col])\n",
    "    r_data = ratings[ratings[col] == id_val]\n",
    "    qua = len(r_data)\n",
    "    return qua\n",
    "    \n",
    "def quantity (df,col,label):\n",
    "    df[label] = df.apply(lambda row: cal_quantity(row,col), axis = 1)\n",
    "    return df"
   ]
  },
  {
   "cell_type": "code",
   "execution_count": 165,
   "metadata": {},
   "outputs": [],
   "source": [
    "items = quantity(items,'movieId','quantity_item')"
   ]
  },
  {
   "cell_type": "code",
   "execution_count": 166,
   "metadata": {},
   "outputs": [],
   "source": [
    "def cal_likability(row,col):\n",
    "    id_val = int(row[col])\n",
    "    data = ratings[ratings[col] == id_val]\n",
    "    like = 0;\n",
    "    for i in range(0, len(data)):\n",
    "        like += float(data.iloc[i].rating - customers[customers['userId'] == data.iloc[i].userId].avg_rating)\n",
    "    #print('pass',uid)\n",
    "    return like\n",
    "    \n",
    "def likability(df,col,label):\n",
    "    df[label] = df.apply(lambda row: cal_likability(row,col), axis = 1)\n",
    "    return df"
   ]
  },
  {
   "cell_type": "code",
   "execution_count": 167,
   "metadata": {},
   "outputs": [],
   "source": [
    "items = likability(items,'movieId','likability')"
   ]
  },
  {
   "cell_type": "code",
   "execution_count": 168,
   "metadata": {},
   "outputs": [],
   "source": [
    "items['avg_rating_item'] = items['avg_rating_item'].div(items['quantity_item'],axis='index')\n",
    "items['likability'] = items['likability'].div(items['quantity_item'],axis='index')"
   ]
  },
  {
   "cell_type": "code",
   "execution_count": 169,
   "metadata": {
    "scrolled": true
   },
   "outputs": [
    {
     "data": {
      "text/html": [
       "<div>\n",
       "<style>\n",
       "    .dataframe thead tr:only-child th {\n",
       "        text-align: right;\n",
       "    }\n",
       "\n",
       "    .dataframe thead th {\n",
       "        text-align: left;\n",
       "    }\n",
       "\n",
       "    .dataframe tbody tr th {\n",
       "        vertical-align: top;\n",
       "    }\n",
       "</style>\n",
       "<table border=\"1\" class=\"dataframe\">\n",
       "  <thead>\n",
       "    <tr style=\"text-align: right;\">\n",
       "      <th></th>\n",
       "      <th>movieId</th>\n",
       "      <th>avg_rating_item</th>\n",
       "      <th>quantity_item</th>\n",
       "      <th>likability</th>\n",
       "    </tr>\n",
       "  </thead>\n",
       "  <tbody>\n",
       "    <tr>\n",
       "      <th>417</th>\n",
       "      <td>1</td>\n",
       "      <td>3.872470</td>\n",
       "      <td>247</td>\n",
       "      <td>0.225976</td>\n",
       "    </tr>\n",
       "    <tr>\n",
       "      <th>650</th>\n",
       "      <td>2</td>\n",
       "      <td>3.401869</td>\n",
       "      <td>107</td>\n",
       "      <td>-0.155981</td>\n",
       "    </tr>\n",
       "    <tr>\n",
       "      <th>319</th>\n",
       "      <td>3</td>\n",
       "      <td>3.161017</td>\n",
       "      <td>59</td>\n",
       "      <td>-0.421958</td>\n",
       "    </tr>\n",
       "    <tr>\n",
       "      <th>2084</th>\n",
       "      <td>4</td>\n",
       "      <td>2.384615</td>\n",
       "      <td>13</td>\n",
       "      <td>-1.248102</td>\n",
       "    </tr>\n",
       "    <tr>\n",
       "      <th>651</th>\n",
       "      <td>5</td>\n",
       "      <td>3.267857</td>\n",
       "      <td>56</td>\n",
       "      <td>-0.322901</td>\n",
       "    </tr>\n",
       "  </tbody>\n",
       "</table>\n",
       "</div>"
      ],
      "text/plain": [
       "      movieId  avg_rating_item  quantity_item  likability\n",
       "417         1         3.872470            247    0.225976\n",
       "650         2         3.401869            107   -0.155981\n",
       "319         3         3.161017             59   -0.421958\n",
       "2084        4         2.384615             13   -1.248102\n",
       "651         5         3.267857             56   -0.322901"
      ]
     },
     "execution_count": 169,
     "metadata": {},
     "output_type": "execute_result"
    }
   ],
   "source": [
    "items.head()"
   ]
  },
  {
   "cell_type": "code",
   "execution_count": 170,
   "metadata": {},
   "outputs": [],
   "source": [
    "customers = avg_rating(customers,'userId','avg_rating_customer')\n",
    "customers = quantity(customers,'userId','quantity_customer')"
   ]
  },
  {
   "cell_type": "code",
   "execution_count": 171,
   "metadata": {},
   "outputs": [],
   "source": [
    "def cal_seen_popularity(row):\n",
    "    id_val = int(row['userId'])\n",
    "    data = ratings[ratings['userId'] == id_val].movieId.unique()\n",
    "    popular = 0;\n",
    "    for i in range(0, len(data)):\n",
    "        popular += float(items[items['movieId'] == data[i]].quantity_item)\n",
    "    #print('pass',uid)\n",
    "    return popular\n",
    "    \n",
    "def seen_popularity(df):\n",
    "    df['seen_popularity'] = df.apply(lambda row: cal_seen_popularity(row), axis = 1)\n",
    "    return df"
   ]
  },
  {
   "cell_type": "code",
   "execution_count": 172,
   "metadata": {
    "scrolled": false
   },
   "outputs": [],
   "source": [
    "customers = seen_popularity(customers)"
   ]
  },
  {
   "cell_type": "code",
   "execution_count": 173,
   "metadata": {},
   "outputs": [],
   "source": [
    "def cal_seen_rating(row):\n",
    "    id_val = int(row['userId'])\n",
    "    data = ratings[ratings['userId'] == id_val].movieId.unique()\n",
    "    popular = 0;\n",
    "    for i in range(0, len(data)):\n",
    "        popular += float(items[items['movieId'] == data[i]].avg_rating_item)\n",
    "    #print('pass',uid)\n",
    "    return popular\n",
    "    \n",
    "def seen_rating(df):\n",
    "    df['seen_rating'] = df.apply(lambda row: cal_seen_rating(row), axis = 1)\n",
    "    return df"
   ]
  },
  {
   "cell_type": "code",
   "execution_count": 174,
   "metadata": {},
   "outputs": [],
   "source": [
    "customers = seen_rating(customers)"
   ]
  },
  {
   "cell_type": "code",
   "execution_count": 175,
   "metadata": {},
   "outputs": [],
   "source": [
    "customers['avg_rating_customer'] = customers['avg_rating_customer'].div(customers['quantity_customer'],axis='index')\n",
    "customers['seen_popularity'] = customers['seen_popularity'].div(customers['quantity_customer'],axis='index')\n",
    "customers['seen_rating'] = customers['seen_rating'].div(customers['quantity_customer'],axis='index')"
   ]
  },
  {
   "cell_type": "code",
   "execution_count": 176,
   "metadata": {},
   "outputs": [
    {
     "data": {
      "text/html": [
       "<div>\n",
       "<style>\n",
       "    .dataframe thead tr:only-child th {\n",
       "        text-align: right;\n",
       "    }\n",
       "\n",
       "    .dataframe thead th {\n",
       "        text-align: left;\n",
       "    }\n",
       "\n",
       "    .dataframe tbody tr th {\n",
       "        vertical-align: top;\n",
       "    }\n",
       "</style>\n",
       "<table border=\"1\" class=\"dataframe\">\n",
       "  <thead>\n",
       "    <tr style=\"text-align: right;\">\n",
       "      <th></th>\n",
       "      <th>userId</th>\n",
       "      <th>avg_rating</th>\n",
       "      <th>avg_rating_customer</th>\n",
       "      <th>quantity_customer</th>\n",
       "      <th>seen_popularity</th>\n",
       "      <th>seen_rating</th>\n",
       "    </tr>\n",
       "  </thead>\n",
       "  <tbody>\n",
       "    <tr>\n",
       "      <th>0</th>\n",
       "      <td>1</td>\n",
       "      <td>2.550000</td>\n",
       "      <td>2.550000</td>\n",
       "      <td>20</td>\n",
       "      <td>45.550000</td>\n",
       "      <td>3.562529</td>\n",
       "    </tr>\n",
       "    <tr>\n",
       "      <th>1</th>\n",
       "      <td>2</td>\n",
       "      <td>3.486842</td>\n",
       "      <td>3.486842</td>\n",
       "      <td>76</td>\n",
       "      <td>106.578947</td>\n",
       "      <td>3.536646</td>\n",
       "    </tr>\n",
       "    <tr>\n",
       "      <th>2</th>\n",
       "      <td>3</td>\n",
       "      <td>3.568627</td>\n",
       "      <td>3.568627</td>\n",
       "      <td>51</td>\n",
       "      <td>116.843137</td>\n",
       "      <td>3.716531</td>\n",
       "    </tr>\n",
       "    <tr>\n",
       "      <th>3</th>\n",
       "      <td>4</td>\n",
       "      <td>4.348039</td>\n",
       "      <td>4.348039</td>\n",
       "      <td>204</td>\n",
       "      <td>72.480392</td>\n",
       "      <td>3.610074</td>\n",
       "    </tr>\n",
       "    <tr>\n",
       "      <th>4</th>\n",
       "      <td>5</td>\n",
       "      <td>3.910000</td>\n",
       "      <td>3.910000</td>\n",
       "      <td>100</td>\n",
       "      <td>92.280000</td>\n",
       "      <td>3.567149</td>\n",
       "    </tr>\n",
       "  </tbody>\n",
       "</table>\n",
       "</div>"
      ],
      "text/plain": [
       "   userId  avg_rating  avg_rating_customer  quantity_customer  \\\n",
       "0       1    2.550000             2.550000                 20   \n",
       "1       2    3.486842             3.486842                 76   \n",
       "2       3    3.568627             3.568627                 51   \n",
       "3       4    4.348039             4.348039                204   \n",
       "4       5    3.910000             3.910000                100   \n",
       "\n",
       "   seen_popularity  seen_rating  \n",
       "0        45.550000     3.562529  \n",
       "1       106.578947     3.536646  \n",
       "2       116.843137     3.716531  \n",
       "3        72.480392     3.610074  \n",
       "4        92.280000     3.567149  "
      ]
     },
     "execution_count": 176,
     "metadata": {},
     "output_type": "execute_result"
    }
   ],
   "source": [
    "customers.head()"
   ]
  },
  {
   "cell_type": "code",
   "execution_count": 177,
   "metadata": {},
   "outputs": [],
   "source": [
    "# given the mean, standard deviation, lower and upper limits and the number of samples to be generated,\n",
    "# returns 'size' number of rows sampled from a truncated normal distribution.\n",
    "def get_truncated_normal(mean, sd, low, upp, size):\n",
    "    return truncnorm((low - mean) / sd, (upp - mean) / sd, loc=mean, scale=sd).rvs(size=size)"
   ]
  },
  {
   "cell_type": "code",
   "execution_count": 178,
   "metadata": {},
   "outputs": [],
   "source": [
    "def add_column(df,col_name, para,size, possible_values=None, categorical=True,):\n",
    "    if possible_values is None:\n",
    "        possible_values = [1, 0]\n",
    "\n",
    "    if categorical:\n",
    "        col = np.random.choice(possible_values, size=size, replace=True, p=para)\n",
    "        \n",
    "    # if numarical\n",
    "    else:\n",
    "        col = list(map(int, get_truncated_normal(para[0], \n",
    "                                                    para[1], \n",
    "                                                    para[2], \n",
    "                                                    para[3], \n",
    "                                                    size)))\n",
    "\n",
    "    # add to all dataframes\n",
    "    df[col_name] = col\n",
    "    return df"
   ]
  },
  {
   "cell_type": "code",
   "execution_count": 179,
   "metadata": {},
   "outputs": [],
   "source": [
    "# Gender\n",
    "gender_label = ['male','female']\n",
    "customers = add_column(customers,'gender',[0.53,0.47],len(customers),possible_values = gender_label)"
   ]
  },
  {
   "cell_type": "code",
   "execution_count": 180,
   "metadata": {},
   "outputs": [],
   "source": [
    "# Age\n",
    "customers = add_column(customers,'age',[47.7,18.2,18,40],len(customers),categorical=False)"
   ]
  },
  {
   "cell_type": "code",
   "execution_count": 181,
   "metadata": {},
   "outputs": [],
   "source": [
    "item_copy = items.copy()"
   ]
  },
  {
   "cell_type": "code",
   "execution_count": 182,
   "metadata": {},
   "outputs": [],
   "source": [
    "items = item_copy.copy()"
   ]
  },
  {
   "cell_type": "code",
   "execution_count": 183,
   "metadata": {},
   "outputs": [
    {
     "name": "stderr",
     "output_type": "stream",
     "text": [
      "C:\\anaconda3\\lib\\site-packages\\IPython\\core\\interactiveshell.py:2728: DtypeWarning: Columns (10) have mixed types. Specify dtype option on import or set low_memory=False.\n",
      "  interactivity=interactivity, compiler=compiler, result=result)\n"
     ]
    }
   ],
   "source": [
    "m_df = pd.read_csv('data/movies_metadata.csv')\n",
    "\n",
    "#getting genres\n",
    "m_df['genres'] = m_df['genres'].fillna('[]').apply(literal_eval).apply(lambda x: [i['name'] for i in x] \n",
    "                                                                       if isinstance(x, list) else [])\n",
    "#getting year\n",
    "m_df['year'] = pd.to_datetime(m_df['release_date'], errors='coerce').apply(lambda x: str(x).split('-')[0] \n",
    "                                                                           if x != np.nan else np.nan)"
   ]
  },
  {
   "cell_type": "code",
   "execution_count": 184,
   "metadata": {},
   "outputs": [],
   "source": [
    "m_df = m_df[:len(item_copy)]"
   ]
  },
  {
   "cell_type": "code",
   "execution_count": 185,
   "metadata": {},
   "outputs": [],
   "source": [
    "items['title'] = m_df['original_title']\n",
    "items['genres'] = m_df['genres']\n",
    "items['year'] = m_df['year']"
   ]
  },
  {
   "cell_type": "code",
   "execution_count": 186,
   "metadata": {},
   "outputs": [
    {
     "data": {
      "text/plain": [
       "417     [Mystery, Crime, Drama, Thriller]\n",
       "650              [Romance, Comedy, Drama]\n",
       "319              [Comedy, Drama, Romance]\n",
       "2084           [Adventure, Drama, Action]\n",
       "651        [Adventure, Animation, Family]\n",
       "Name: genres, dtype: object"
      ]
     },
     "execution_count": 186,
     "metadata": {},
     "output_type": "execute_result"
    }
   ],
   "source": [
    "items.genres.head()#value_counts()"
   ]
  },
  {
   "cell_type": "code",
   "execution_count": 187,
   "metadata": {},
   "outputs": [],
   "source": [
    "#data1 = data.copy()\n",
    "temp = items.apply(lambda row: pd.Series(row['genres']),axis=1).stack().reset_index(level=1, drop=True)\n",
    "temp.name = 'genre'\n",
    "items = items.drop('genres', axis=1).join(temp)\n",
    "items = items[~items.index.duplicated(keep='first')]"
   ]
  },
  {
   "cell_type": "code",
   "execution_count": 188,
   "metadata": {},
   "outputs": [],
   "source": [
    "# cost\n",
    "items = add_column(items,'cost',[572.66,730,30,4232],len(items),categorical=False)"
   ]
  },
  {
   "cell_type": "code",
   "execution_count": 189,
   "metadata": {},
   "outputs": [
    {
     "data": {
      "text/html": [
       "<div>\n",
       "<style>\n",
       "    .dataframe thead tr:only-child th {\n",
       "        text-align: right;\n",
       "    }\n",
       "\n",
       "    .dataframe thead th {\n",
       "        text-align: left;\n",
       "    }\n",
       "\n",
       "    .dataframe tbody tr th {\n",
       "        vertical-align: top;\n",
       "    }\n",
       "</style>\n",
       "<table border=\"1\" class=\"dataframe\">\n",
       "  <thead>\n",
       "    <tr style=\"text-align: right;\">\n",
       "      <th></th>\n",
       "      <th>movieId</th>\n",
       "      <th>avg_rating_item</th>\n",
       "      <th>quantity_item</th>\n",
       "      <th>likability</th>\n",
       "      <th>title</th>\n",
       "      <th>year</th>\n",
       "      <th>genre</th>\n",
       "      <th>cost</th>\n",
       "    </tr>\n",
       "  </thead>\n",
       "  <tbody>\n",
       "    <tr>\n",
       "      <th>0</th>\n",
       "      <td>31</td>\n",
       "      <td>3.178571</td>\n",
       "      <td>42</td>\n",
       "      <td>-0.277838</td>\n",
       "      <td>Toy Story</td>\n",
       "      <td>1995</td>\n",
       "      <td>Animation</td>\n",
       "      <td>149</td>\n",
       "    </tr>\n",
       "    <tr>\n",
       "      <th>1</th>\n",
       "      <td>1029</td>\n",
       "      <td>3.702381</td>\n",
       "      <td>42</td>\n",
       "      <td>0.156436</td>\n",
       "      <td>Jumanji</td>\n",
       "      <td>1995</td>\n",
       "      <td>Adventure</td>\n",
       "      <td>583</td>\n",
       "    </tr>\n",
       "    <tr>\n",
       "      <th>2</th>\n",
       "      <td>1061</td>\n",
       "      <td>3.545455</td>\n",
       "      <td>33</td>\n",
       "      <td>0.082347</td>\n",
       "      <td>Grumpier Old Men</td>\n",
       "      <td>1995</td>\n",
       "      <td>Romance</td>\n",
       "      <td>450</td>\n",
       "    </tr>\n",
       "    <tr>\n",
       "      <th>3</th>\n",
       "      <td>1129</td>\n",
       "      <td>3.312500</td>\n",
       "      <td>48</td>\n",
       "      <td>-0.160192</td>\n",
       "      <td>Waiting to Exhale</td>\n",
       "      <td>1995</td>\n",
       "      <td>Comedy</td>\n",
       "      <td>839</td>\n",
       "    </tr>\n",
       "    <tr>\n",
       "      <th>4</th>\n",
       "      <td>1172</td>\n",
       "      <td>4.260870</td>\n",
       "      <td>46</td>\n",
       "      <td>0.646038</td>\n",
       "      <td>Father of the Bride Part II</td>\n",
       "      <td>1995</td>\n",
       "      <td>Comedy</td>\n",
       "      <td>846</td>\n",
       "    </tr>\n",
       "  </tbody>\n",
       "</table>\n",
       "</div>"
      ],
      "text/plain": [
       "   movieId  avg_rating_item  quantity_item  likability  \\\n",
       "0       31         3.178571             42   -0.277838   \n",
       "1     1029         3.702381             42    0.156436   \n",
       "2     1061         3.545455             33    0.082347   \n",
       "3     1129         3.312500             48   -0.160192   \n",
       "4     1172         4.260870             46    0.646038   \n",
       "\n",
       "                         title  year      genre  cost  \n",
       "0                    Toy Story  1995  Animation   149  \n",
       "1                      Jumanji  1995  Adventure   583  \n",
       "2             Grumpier Old Men  1995    Romance   450  \n",
       "3            Waiting to Exhale  1995     Comedy   839  \n",
       "4  Father of the Bride Part II  1995     Comedy   846  "
      ]
     },
     "execution_count": 189,
     "metadata": {},
     "output_type": "execute_result"
    }
   ],
   "source": [
    "items.head()"
   ]
  },
  {
   "cell_type": "code",
   "execution_count": 190,
   "metadata": {},
   "outputs": [],
   "source": [
    "data = pd.merge(ratings, items, on='movieId', how='inner')"
   ]
  },
  {
   "cell_type": "code",
   "execution_count": 191,
   "metadata": {},
   "outputs": [],
   "source": [
    "data = pd.merge(data,customers, on='userId', how='inner')"
   ]
  },
  {
   "cell_type": "code",
   "execution_count": 192,
   "metadata": {},
   "outputs": [
    {
     "data": {
      "text/html": [
       "<div>\n",
       "<style>\n",
       "    .dataframe thead tr:only-child th {\n",
       "        text-align: right;\n",
       "    }\n",
       "\n",
       "    .dataframe thead th {\n",
       "        text-align: left;\n",
       "    }\n",
       "\n",
       "    .dataframe tbody tr th {\n",
       "        vertical-align: top;\n",
       "    }\n",
       "</style>\n",
       "<table border=\"1\" class=\"dataframe\">\n",
       "  <thead>\n",
       "    <tr style=\"text-align: right;\">\n",
       "      <th></th>\n",
       "      <th>userId</th>\n",
       "      <th>movieId</th>\n",
       "      <th>rating</th>\n",
       "      <th>timestamp</th>\n",
       "      <th>avg_rating_item</th>\n",
       "      <th>quantity_item</th>\n",
       "      <th>likability</th>\n",
       "      <th>title</th>\n",
       "      <th>year</th>\n",
       "      <th>genre</th>\n",
       "      <th>cost</th>\n",
       "      <th>avg_rating</th>\n",
       "      <th>avg_rating_customer</th>\n",
       "      <th>quantity_customer</th>\n",
       "      <th>seen_popularity</th>\n",
       "      <th>seen_rating</th>\n",
       "      <th>gender</th>\n",
       "      <th>age</th>\n",
       "    </tr>\n",
       "  </thead>\n",
       "  <tbody>\n",
       "    <tr>\n",
       "      <th>0</th>\n",
       "      <td>1</td>\n",
       "      <td>31</td>\n",
       "      <td>2.5</td>\n",
       "      <td>1260759144</td>\n",
       "      <td>3.178571</td>\n",
       "      <td>42</td>\n",
       "      <td>-0.277838</td>\n",
       "      <td>Toy Story</td>\n",
       "      <td>1995</td>\n",
       "      <td>Animation</td>\n",
       "      <td>149</td>\n",
       "      <td>2.55</td>\n",
       "      <td>2.55</td>\n",
       "      <td>20</td>\n",
       "      <td>45.55</td>\n",
       "      <td>3.562529</td>\n",
       "      <td>female</td>\n",
       "      <td>39</td>\n",
       "    </tr>\n",
       "    <tr>\n",
       "      <th>1</th>\n",
       "      <td>1</td>\n",
       "      <td>1029</td>\n",
       "      <td>3.0</td>\n",
       "      <td>1260759179</td>\n",
       "      <td>3.702381</td>\n",
       "      <td>42</td>\n",
       "      <td>0.156436</td>\n",
       "      <td>Jumanji</td>\n",
       "      <td>1995</td>\n",
       "      <td>Adventure</td>\n",
       "      <td>583</td>\n",
       "      <td>2.55</td>\n",
       "      <td>2.55</td>\n",
       "      <td>20</td>\n",
       "      <td>45.55</td>\n",
       "      <td>3.562529</td>\n",
       "      <td>female</td>\n",
       "      <td>39</td>\n",
       "    </tr>\n",
       "    <tr>\n",
       "      <th>2</th>\n",
       "      <td>1</td>\n",
       "      <td>1061</td>\n",
       "      <td>3.0</td>\n",
       "      <td>1260759182</td>\n",
       "      <td>3.545455</td>\n",
       "      <td>33</td>\n",
       "      <td>0.082347</td>\n",
       "      <td>Grumpier Old Men</td>\n",
       "      <td>1995</td>\n",
       "      <td>Romance</td>\n",
       "      <td>450</td>\n",
       "      <td>2.55</td>\n",
       "      <td>2.55</td>\n",
       "      <td>20</td>\n",
       "      <td>45.55</td>\n",
       "      <td>3.562529</td>\n",
       "      <td>female</td>\n",
       "      <td>39</td>\n",
       "    </tr>\n",
       "    <tr>\n",
       "      <th>3</th>\n",
       "      <td>1</td>\n",
       "      <td>1129</td>\n",
       "      <td>2.0</td>\n",
       "      <td>1260759185</td>\n",
       "      <td>3.312500</td>\n",
       "      <td>48</td>\n",
       "      <td>-0.160192</td>\n",
       "      <td>Waiting to Exhale</td>\n",
       "      <td>1995</td>\n",
       "      <td>Comedy</td>\n",
       "      <td>839</td>\n",
       "      <td>2.55</td>\n",
       "      <td>2.55</td>\n",
       "      <td>20</td>\n",
       "      <td>45.55</td>\n",
       "      <td>3.562529</td>\n",
       "      <td>female</td>\n",
       "      <td>39</td>\n",
       "    </tr>\n",
       "    <tr>\n",
       "      <th>4</th>\n",
       "      <td>1</td>\n",
       "      <td>1172</td>\n",
       "      <td>4.0</td>\n",
       "      <td>1260759205</td>\n",
       "      <td>4.260870</td>\n",
       "      <td>46</td>\n",
       "      <td>0.646038</td>\n",
       "      <td>Father of the Bride Part II</td>\n",
       "      <td>1995</td>\n",
       "      <td>Comedy</td>\n",
       "      <td>846</td>\n",
       "      <td>2.55</td>\n",
       "      <td>2.55</td>\n",
       "      <td>20</td>\n",
       "      <td>45.55</td>\n",
       "      <td>3.562529</td>\n",
       "      <td>female</td>\n",
       "      <td>39</td>\n",
       "    </tr>\n",
       "  </tbody>\n",
       "</table>\n",
       "</div>"
      ],
      "text/plain": [
       "   userId  movieId  rating   timestamp  avg_rating_item  quantity_item  \\\n",
       "0       1       31     2.5  1260759144         3.178571             42   \n",
       "1       1     1029     3.0  1260759179         3.702381             42   \n",
       "2       1     1061     3.0  1260759182         3.545455             33   \n",
       "3       1     1129     2.0  1260759185         3.312500             48   \n",
       "4       1     1172     4.0  1260759205         4.260870             46   \n",
       "\n",
       "   likability                        title  year      genre  cost  avg_rating  \\\n",
       "0   -0.277838                    Toy Story  1995  Animation   149        2.55   \n",
       "1    0.156436                      Jumanji  1995  Adventure   583        2.55   \n",
       "2    0.082347             Grumpier Old Men  1995    Romance   450        2.55   \n",
       "3   -0.160192            Waiting to Exhale  1995     Comedy   839        2.55   \n",
       "4    0.646038  Father of the Bride Part II  1995     Comedy   846        2.55   \n",
       "\n",
       "   avg_rating_customer  quantity_customer  seen_popularity  seen_rating  \\\n",
       "0                 2.55                 20            45.55     3.562529   \n",
       "1                 2.55                 20            45.55     3.562529   \n",
       "2                 2.55                 20            45.55     3.562529   \n",
       "3                 2.55                 20            45.55     3.562529   \n",
       "4                 2.55                 20            45.55     3.562529   \n",
       "\n",
       "   gender  age  \n",
       "0  female   39  \n",
       "1  female   39  \n",
       "2  female   39  \n",
       "3  female   39  \n",
       "4  female   39  "
      ]
     },
     "execution_count": 192,
     "metadata": {},
     "output_type": "execute_result"
    }
   ],
   "source": [
    "data.head()"
   ]
  },
  {
   "cell_type": "code",
   "execution_count": 193,
   "metadata": {},
   "outputs": [],
   "source": [
    "col_list = ['userId','gender','age','movieId','title','genre','year','cost','avg_rating_item','quantity_item','likability',\n",
    "            'avg_rating_customer','quantity_customer','seen_popularity','seen_rating','rating']\n",
    "\n",
    "data = data[col_list]"
   ]
  },
  {
   "cell_type": "code",
   "execution_count": 194,
   "metadata": {},
   "outputs": [],
   "source": [
    "data.to_csv('movie_data_final.csv',index=False)"
   ]
  },
  {
   "cell_type": "code",
   "execution_count": 195,
   "metadata": {},
   "outputs": [],
   "source": [
    "customers.to_csv('customer.csv',index = False)"
   ]
  },
  {
   "cell_type": "code",
   "execution_count": 196,
   "metadata": {},
   "outputs": [],
   "source": [
    "#items = items.drop('title',axis=1)\n",
    "items.to_csv('items.csv',index = False)"
   ]
  },
  {
   "cell_type": "code",
   "execution_count": null,
   "metadata": {},
   "outputs": [],
   "source": []
  }
 ],
 "metadata": {
  "kernelspec": {
   "display_name": "Python 3",
   "language": "python",
   "name": "python3"
  },
  "language_info": {
   "codemirror_mode": {
    "name": "ipython",
    "version": 3
   },
   "file_extension": ".py",
   "mimetype": "text/x-python",
   "name": "python",
   "nbconvert_exporter": "python",
   "pygments_lexer": "ipython3",
   "version": "3.7.4"
  }
 },
 "nbformat": 4,
 "nbformat_minor": 2
}
