{
  "nbformat": 4,
  "nbformat_minor": 0,
  "metadata": {
    "colab": {
      "name": "AE(30-20-10-10-20-30).ipynb",
      "provenance": [],
      "collapsed_sections": []
    },
    "kernelspec": {
      "name": "python3",
      "display_name": "Python 3"
    }
  },
  "cells": [
    {
      "cell_type": "markdown",
      "metadata": {
        "id": "-k_o2GGXbsHg",
        "colab_type": "text"
      },
      "source": [
        "Basic AE"
      ]
    },
    {
      "cell_type": "code",
      "metadata": {
        "id": "c1_S6g9VHcdi",
        "colab_type": "code",
        "colab": {}
      },
      "source": [
        "import numpy as np\n",
        "import pandas as pd\n",
        "import torch\n",
        "import torch.nn as nn\n",
        "import torch.nn.parallel\n",
        "import torch.optim as optim\n",
        "import torch.utils.data\n",
        "from torch.autograd import Variable"
      ],
      "execution_count": 0,
      "outputs": []
    },
    {
      "cell_type": "code",
      "metadata": {
        "id": "KfxKXF3RHeK0",
        "colab_type": "code",
        "colab": {}
      },
      "source": [
        "# Importing the dataset\n",
        "movies = pd.read_csv('movies.dat', sep = '::', header = None, engine = 'python', encoding = 'latin-1')\n",
        "#users = pd.read_csv('users.dat', sep = '::', header = None, engine = 'python', encoding = 'latin-1')\n",
        "ratings = pd.read_csv('ratings.dat', sep = '::', header = None, engine = 'python', encoding = 'latin-1')"
      ],
      "execution_count": 0,
      "outputs": []
    },
    {
      "cell_type": "code",
      "metadata": {
        "id": "csbpbvQwJBPN",
        "colab_type": "code",
        "colab": {}
      },
      "source": [
        "# Preparing the training set and the test set\n",
        "from sklearn.model_selection import train_test_split\n",
        "training_set , test_set = train_test_split(ratings, test_size = 0.2)\n",
        "\n",
        "training_set = np.array(training_set, dtype = 'int')\n",
        "\n",
        "test_set = np.array(test_set, dtype = 'int')"
      ],
      "execution_count": 0,
      "outputs": []
    },
    {
      "cell_type": "code",
      "metadata": {
        "id": "mRGn0tM8JEvO",
        "colab_type": "code",
        "colab": {}
      },
      "source": [
        "# Getting the number of users and movies\n",
        "nb_users = int(max(max(training_set[:,0]), max(test_set[:,0])))\n",
        "nb_movies = int(max(max(training_set[:,1]), max(test_set[:,1])))\n"
      ],
      "execution_count": 0,
      "outputs": []
    },
    {
      "cell_type": "code",
      "metadata": {
        "id": "IhtPeh9LJINI",
        "colab_type": "code",
        "colab": {}
      },
      "source": [
        "# Converting the data into an array with users in lines and movies in columns\n",
        "def convert(data):\n",
        "    new_data = []\n",
        "    for id_users in range(1, nb_users + 1):\n",
        "        id_movies = data[:,1][data[:,0] == id_users]\n",
        "        id_ratings = data[:,2][data[:,0] == id_users]\n",
        "        ratings = np.zeros(nb_movies)\n",
        "        ratings[id_movies - 1] = id_ratings\n",
        "        new_data.append(list(ratings))\n",
        "    return new_data\n",
        "training_set = convert(training_set)\n",
        "test_set = convert(test_set)"
      ],
      "execution_count": 0,
      "outputs": []
    },
    {
      "cell_type": "code",
      "metadata": {
        "id": "LxL66kDMJLSp",
        "colab_type": "code",
        "colab": {}
      },
      "source": [
        "# Converting the data into Torch tensors\n",
        "training_set = torch.FloatTensor(training_set)\n",
        "test_set = torch.FloatTensor(test_set)\n"
      ],
      "execution_count": 0,
      "outputs": []
    },
    {
      "cell_type": "code",
      "metadata": {
        "id": "yQtU2P5jJNiX",
        "colab_type": "code",
        "colab": {}
      },
      "source": [
        "# Creating the architecture of the Neural Network\n",
        "class SAE(nn.Module):\n",
        "    def __init__(self, ):\n",
        "        super(SAE, self).__init__()\n",
        "        self.fc1 = nn.Linear(nb_movies, 30)\n",
        "        self.fc2 = nn.Linear(30, 20)\n",
        "        self.fc3 = nn.Linear(20, 10)\n",
        "        self.fc4 = nn.Linear(10, 20)\n",
        "        self.fc5 = nn.Linear(20, 30)\n",
        "        self.fc6 = nn.Linear(30, nb_movies)\n",
        "        self.activation = nn.Sigmoid()\n",
        "    def forward(self, x):\n",
        "        x = self.activation(self.fc1(x))\n",
        "        x = self.activation(self.fc2(x))\n",
        "        x = self.activation(self.fc3(x))\n",
        "        x = self.activation(self.fc4(x))\n",
        "        x = self.activation(self.fc5(x))\n",
        "        x = self.fc6(x)\n",
        "        return x\n",
        "sae = SAE()\n",
        "criterion = nn.MSELoss()\n",
        "optimizer = optim.RMSprop(sae.parameters(), lr = 0.01, weight_decay = 0.5)\n"
      ],
      "execution_count": 0,
      "outputs": []
    },
    {
      "cell_type": "code",
      "metadata": {
        "id": "hZkyLBICJR9J",
        "colab_type": "code",
        "outputId": "fdb75c90-1185-453e-d6f3-de4dc2247bc7",
        "colab": {
          "base_uri": "https://localhost:8080/",
          "height": 867
        }
      },
      "source": [
        "nb_epoch = 50\n",
        "for epoch in range(1, nb_epoch + 1):\n",
        "    train_loss = 0\n",
        "    s = 0.\n",
        "    for id_user in range(nb_users):\n",
        "        input = Variable(training_set[id_user]).unsqueeze(0)\n",
        "        target = input.clone()\n",
        "        if torch.sum(target.data > 0) > 0:\n",
        "            output = sae(input)\n",
        "            target.require_grad = False\n",
        "            output[target == 0] = 0\n",
        "            loss = criterion(output, target)\n",
        "            mean_corrector = nb_movies/float(torch.sum(target.data > 0) + 1e-10)\n",
        "            loss.backward()\n",
        "            train_loss += np.sqrt(loss.item()*mean_corrector)\n",
        "            s += 1.\n",
        "            optimizer.step()\n",
        "    print('epoch: '+str(epoch)+' loss: '+str(train_loss/s))"
      ],
      "execution_count": 0,
      "outputs": [
        {
          "output_type": "stream",
          "text": [
            "epoch: 1 loss: 0.9959933474270751\n",
            "epoch: 2 loss: 0.98965164306709\n",
            "epoch: 3 loss: 0.9872563798543212\n",
            "epoch: 4 loss: 0.9858974341899084\n",
            "epoch: 5 loss: 0.9850043413156993\n",
            "epoch: 6 loss: 0.9845463555385838\n",
            "epoch: 7 loss: 0.9842012932911968\n",
            "epoch: 8 loss: 0.9839147239238635\n",
            "epoch: 9 loss: 0.9838595590268009\n",
            "epoch: 10 loss: 0.9834634240663511\n",
            "epoch: 11 loss: 0.9832962830809723\n",
            "epoch: 12 loss: 0.9829701745367839\n",
            "epoch: 13 loss: 0.983075605534998\n",
            "epoch: 14 loss: 0.9825664988921557\n",
            "epoch: 15 loss: 0.9823535087298756\n",
            "epoch: 16 loss: 0.9820309834907472\n",
            "epoch: 17 loss: 0.9819393313356538\n",
            "epoch: 18 loss: 0.9820836426676318\n",
            "epoch: 19 loss: 0.9817929843334916\n",
            "epoch: 20 loss: 0.9814281013850278\n",
            "epoch: 21 loss: 0.9812334472848276\n",
            "epoch: 22 loss: 0.9808308527449768\n",
            "epoch: 23 loss: 0.9806472292754111\n",
            "epoch: 24 loss: 0.9804091248323904\n",
            "epoch: 25 loss: 0.9801658133532114\n",
            "epoch: 26 loss: 0.9799505977595393\n",
            "epoch: 27 loss: 0.9798939486382579\n",
            "epoch: 28 loss: 0.9798945496707188\n",
            "epoch: 29 loss: 0.9795918371504463\n",
            "epoch: 30 loss: 0.9793131497719387\n",
            "epoch: 31 loss: 0.979365011838072\n",
            "epoch: 32 loss: 0.9788505881446496\n",
            "epoch: 33 loss: 0.9789038092161921\n",
            "epoch: 34 loss: 0.9782583301718154\n",
            "epoch: 35 loss: 0.9782013464620116\n",
            "epoch: 36 loss: 0.9778281675837756\n",
            "epoch: 37 loss: 0.9775064066957612\n",
            "epoch: 38 loss: 0.97749418668497\n",
            "epoch: 39 loss: 0.9769536483012772\n",
            "epoch: 40 loss: 0.9769135381692056\n",
            "epoch: 41 loss: 0.9765436476825708\n",
            "epoch: 42 loss: 0.9759598165604547\n",
            "epoch: 43 loss: 0.9756009731531557\n",
            "epoch: 44 loss: 0.9751647962906248\n",
            "epoch: 45 loss: 0.9754530845429378\n",
            "epoch: 46 loss: 0.9744403100015093\n",
            "epoch: 47 loss: 0.9723026745324885\n",
            "epoch: 48 loss: 0.9728622404323267\n",
            "epoch: 49 loss: 0.9748596304744855\n",
            "epoch: 50 loss: 0.9757279675556065\n"
          ],
          "name": "stdout"
        }
      ]
    },
    {
      "cell_type": "code",
      "metadata": {
        "id": "LGjtxKpzJUq-",
        "colab_type": "code",
        "outputId": "a583d8dc-8c9c-445f-bb2d-91e5a51b540e",
        "colab": {
          "base_uri": "https://localhost:8080/",
          "height": 34
        }
      },
      "source": [
        "test_loss = 0\n",
        "s = 0.\n",
        "for id_user in range(nb_users):\n",
        "    input = Variable(training_set[id_user]).unsqueeze(0)\n",
        "    target = Variable(test_set[id_user]).unsqueeze(0)\n",
        "    if torch.sum(target.data > 0) > 0:\n",
        "        output = sae(input)\n",
        "        target.require_grad = False\n",
        "        output[target == 0] = 0\n",
        "        loss = criterion(output, target)\n",
        "        mean_corrector = nb_movies/float(torch.sum(target.data > 0) + 1e-10)\n",
        "        test_loss += np.sqrt(loss.item()*mean_corrector)\n",
        "        s += 1.\n",
        "print('test loss: '+str(test_loss/s))"
      ],
      "execution_count": 0,
      "outputs": [
        {
          "output_type": "stream",
          "text": [
            "test loss: 0.9858143215597271\n"
          ],
          "name": "stdout"
        }
      ]
    },
    {
      "cell_type": "code",
      "metadata": {
        "id": "TytBtasBJZzT",
        "colab_type": "code",
        "colab": {}
      },
      "source": [
        ""
      ],
      "execution_count": 0,
      "outputs": []
    }
  ]
}